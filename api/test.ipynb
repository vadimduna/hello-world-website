{
 "cells": [
  {
   "cell_type": "code",
   "execution_count": 12,
   "metadata": {},
   "outputs": [
    {
     "data": {
      "text/plain": [
       "'mariashapo/capstone_project, mariashapo/hello-world, mariashapo/mariashapo, mariashapo/mariashapo.github.io'"
      ]
     },
     "execution_count": 12,
     "metadata": {},
     "output_type": "execute_result"
    }
   ],
   "source": [
    "import requests\n",
    "\n",
    "response = requests.get(\"https://api.github.com/users/mariashapo/repos\")\n",
    "if response.status_code == 200:\n",
    "    repos = response.json() # data returned is a list of ‘repository’ entities\n",
    "    repo_names=''\n",
    "\n",
    "    for repo in repos:\n",
    "        repo_names+=str((repo[\"full_name\"]))\n",
    "        repo_names+=', '\n",
    "\n",
    "repo_names[:-2]"
   ]
  },
  {
   "cell_type": "code",
   "execution_count": 15,
   "metadata": {},
   "outputs": [
    {
     "data": {
      "text/plain": [
       "4"
      ]
     },
     "execution_count": 15,
     "metadata": {},
     "output_type": "execute_result"
    }
   ],
   "source": [
    "len(repos)"
   ]
  },
  {
   "cell_type": "code",
   "execution_count": 36,
   "metadata": {},
   "outputs": [
    {
     "name": "stdout",
     "output_type": "stream",
     "text": [
      "id\n",
      "node_id\n",
      "name\n",
      "full_name\n",
      "private\n",
      "owner\n",
      "html_url\n",
      "description\n",
      "fork\n",
      "url\n",
      "forks_url\n",
      "keys_url\n",
      "collaborators_url\n",
      "teams_url\n",
      "hooks_url\n",
      "issue_events_url\n",
      "events_url\n",
      "assignees_url\n",
      "branches_url\n",
      "tags_url\n",
      "blobs_url\n",
      "git_tags_url\n",
      "git_refs_url\n",
      "trees_url\n",
      "statuses_url\n",
      "languages_url\n",
      "stargazers_url\n",
      "contributors_url\n",
      "subscribers_url\n",
      "subscription_url\n",
      "commits_url\n",
      "git_commits_url\n",
      "comments_url\n",
      "issue_comment_url\n",
      "contents_url\n",
      "compare_url\n",
      "merges_url\n",
      "archive_url\n",
      "downloads_url\n",
      "issues_url\n",
      "pulls_url\n",
      "milestones_url\n",
      "notifications_url\n",
      "labels_url\n",
      "releases_url\n",
      "deployments_url\n",
      "created_at\n",
      "updated_at\n",
      "pushed_at\n",
      "git_url\n",
      "ssh_url\n",
      "clone_url\n",
      "svn_url\n",
      "homepage\n",
      "size\n",
      "stargazers_count\n",
      "watchers_count\n",
      "language\n",
      "has_issues\n",
      "has_projects\n",
      "has_downloads\n",
      "has_wiki\n",
      "has_pages\n",
      "has_discussions\n",
      "forks_count\n",
      "mirror_url\n",
      "archived\n",
      "disabled\n",
      "open_issues_count\n",
      "license\n",
      "allow_forking\n",
      "is_template\n",
      "web_commit_signoff_required\n",
      "topics\n",
      "visibility\n",
      "forks\n",
      "open_issues\n",
      "watchers\n",
      "default_branch\n"
     ]
    }
   ],
   "source": [
    "for i in repos[0].keys():\n",
    "    print (i)"
   ]
  },
  {
   "cell_type": "code",
   "execution_count": 25,
   "metadata": {},
   "outputs": [
    {
     "data": {
      "text/plain": [
       "'public'"
      ]
     },
     "execution_count": 25,
     "metadata": {},
     "output_type": "execute_result"
    }
   ],
   "source": [
    "repos[0]['visibility']"
   ]
  },
  {
   "cell_type": "code",
   "execution_count": 38,
   "metadata": {},
   "outputs": [
    {
     "data": {
      "text/plain": [
       "<function dict.keys>"
      ]
     },
     "execution_count": 38,
     "metadata": {},
     "output_type": "execute_result"
    }
   ],
   "source": [
    "repos[0].keys"
   ]
  },
  {
   "cell_type": "code",
   "execution_count": 70,
   "metadata": {},
   "outputs": [],
   "source": [
    "def datetime_return(repo, key):\n",
    "    timestamp_str = repo[key]\n",
    "    utc_time = datetime.fromisoformat(timestamp_str.replace(\"Z\", \"+00:00\"))\n",
    "    # Convert the timezone-aware datetime object to local time\n",
    "    local_time = utc_time.astimezone(tz=None)  \n",
    "    # If tz=None, it uses the local timezone\n",
    "    local_time_str = local_time.strftime('%Y-%m-%d %H:%M:%S')\n",
    "\n",
    "    return local_time_str"
   ]
  },
  {
   "cell_type": "code",
   "execution_count": 71,
   "metadata": {},
   "outputs": [
    {
     "data": {
      "text/plain": [
       "'2023-10-12 14:35:35'"
      ]
     },
     "execution_count": 71,
     "metadata": {},
     "output_type": "execute_result"
    }
   ],
   "source": [
    "datetime_return(repos[3],\"pushed_at\")"
   ]
  },
  {
   "cell_type": "code",
   "execution_count": 69,
   "metadata": {},
   "outputs": [
    {
     "data": {
      "text/plain": [
       "'2023-10-12T13:35:35Z'"
      ]
     },
     "execution_count": 69,
     "metadata": {},
     "output_type": "execute_result"
    }
   ],
   "source": [
    "repos[3][\"pushed_at\"]"
   ]
  },
  {
   "cell_type": "code",
   "execution_count": 66,
   "metadata": {},
   "outputs": [
    {
     "name": "stdout",
     "output_type": "stream",
     "text": [
      "2023-04-20 14:27:17\n"
     ]
    }
   ],
   "source": [
    "from datetime import datetime\n",
    "\n",
    "timestamp_str = '2023-04-20T14:27:17Z'\n",
    "timestamp_str = timestamp_str.replace('Z', '')  # Replace 'Z' with '+00:00' to specify UTC offset\n",
    "\n",
    "datetime_obj = datetime.fromisoformat(timestamp_str)\n",
    "print(datetime_obj)\n"
   ]
  },
  {
   "cell_type": "code",
   "execution_count": 35,
   "metadata": {},
   "outputs": [
    {
     "data": {
      "text/plain": [
       "2023"
      ]
     },
     "execution_count": 35,
     "metadata": {},
     "output_type": "execute_result"
    }
   ],
   "source": [
    "datetime_obj.year"
   ]
  },
  {
   "cell_type": "code",
   "execution_count": 19,
   "metadata": {},
   "outputs": [
    {
     "data": {
      "text/plain": [
       "'2023-07-25T16:28:55Z'"
      ]
     },
     "execution_count": 19,
     "metadata": {},
     "output_type": "execute_result"
    }
   ],
   "source": [
    "repos[0]['pushed_at']"
   ]
  },
  {
   "cell_type": "code",
   "execution_count": 83,
   "metadata": {},
   "outputs": [],
   "source": [
    "repos[3][\"description\"]"
   ]
  },
  {
   "cell_type": "code",
   "execution_count": 53,
   "metadata": {},
   "outputs": [
    {
     "data": {
      "text/plain": [
       "'https://api.github.com/repos/mariashapo/capstone_project/commits{/sha}'"
      ]
     },
     "execution_count": 53,
     "metadata": {},
     "output_type": "execute_result"
    }
   ],
   "source": [
    "repos[0][\"commits_url\"]"
   ]
  },
  {
   "cell_type": "code",
   "execution_count": 63,
   "metadata": {},
   "outputs": [
    {
     "data": {
      "text/plain": [
       "'https://api.github.com/repos/mariashapo/hello-world/commits'"
      ]
     },
     "execution_count": 63,
     "metadata": {},
     "output_type": "execute_result"
    }
   ],
   "source": [
    "repos[1][\"commits_url\"].split('{')[0]"
   ]
  },
  {
   "cell_type": "code",
   "execution_count": 79,
   "metadata": {},
   "outputs": [
    {
     "data": {
      "text/plain": [
       "'Commit message for all changes'"
      ]
     },
     "execution_count": 79,
     "metadata": {},
     "output_type": "execute_result"
    }
   ],
   "source": [
    "commits=requests.get(\"https://api.github.com/repos/mariashapo/capstone_project/commits\").json()\n",
    "commits[0]['commit']['message']"
   ]
  },
  {
   "cell_type": "code",
   "execution_count": 81,
   "metadata": {},
   "outputs": [
    {
     "data": {
      "text/plain": [
       "200"
      ]
     },
     "execution_count": 81,
     "metadata": {},
     "output_type": "execute_result"
    }
   ],
   "source": [
    "commits=requests.get(\"https://api.github.com/repos/mariashapo/capstone_project/commits\")\n",
    "commits.status_code"
   ]
  },
  {
   "cell_type": "code",
   "execution_count": 80,
   "metadata": {},
   "outputs": [
    {
     "ename": "AttributeError",
     "evalue": "'list' object has no attribute 'status_code'",
     "output_type": "error",
     "traceback": [
      "\u001b[0;31m---------------------------------------------------------------------------\u001b[0m",
      "\u001b[0;31mAttributeError\u001b[0m                            Traceback (most recent call last)",
      "\u001b[1;32mUntitled-1.ipynb Cell 16\u001b[0m line \u001b[0;36m1\n\u001b[0;32m----> <a href='vscode-notebook-cell:Untitled-1.ipynb?jupyter-notebook#X30sdW50aXRsZWQ%3D?line=0'>1</a>\u001b[0m commits\u001b[39m.\u001b[39;49mstatus_code\n",
      "\u001b[0;31mAttributeError\u001b[0m: 'list' object has no attribute 'status_code'"
     ]
    }
   ],
   "source": [
    "commits.status_code"
   ]
  },
  {
   "cell_type": "code",
   "execution_count": 75,
   "metadata": {},
   "outputs": [
    {
     "data": {
      "text/plain": [
       "15"
      ]
     },
     "execution_count": 75,
     "metadata": {},
     "output_type": "execute_result"
    }
   ],
   "source": [
    "len(commits)"
   ]
  },
  {
   "cell_type": "code",
   "execution_count": 62,
   "metadata": {},
   "outputs": [
    {
     "data": {
      "text/plain": [
       "{'author': {'name': 'mariashapo',\n",
       "  'email': '72753307+mariashapo@users.noreply.github.com',\n",
       "  'date': '2023-04-20T14:39:53Z'},\n",
       " 'committer': {'name': 'GitHub',\n",
       "  'email': 'noreply@github.com',\n",
       "  'date': '2023-04-20T14:39:53Z'},\n",
       " 'message': 'Delete README.md',\n",
       " 'tree': {'sha': '4b825dc642cb6eb9a060e54bf8d69288fbee4904',\n",
       "  'url': 'https://api.github.com/repos/mariashapo/capstone_project/git/trees/4b825dc642cb6eb9a060e54bf8d69288fbee4904'},\n",
       " 'url': 'https://api.github.com/repos/mariashapo/capstone_project/git/commits/22b79bf8d3f16f1dc20c635db4e2311517ecfa2a',\n",
       " 'comment_count': 0,\n",
       " 'verification': {'verified': True,\n",
       "  'reason': 'valid',\n",
       "  'signature': '-----BEGIN PGP SIGNATURE-----\\n\\nwsBcBAABCAAQBQJkQU65CRBK7hj4Ov3rIwAAoZgIAC/F9YPYFTP8RZAFyyG9E98z\\nW0MYdsE6guh7ncQ8BCwMwJo/G9ljTd9nk3nEcWbjBvFhFX/69VgZDJ6rg5h0oJCo\\njTS3a/L2i9COVfq7mjWE6np8ogX7XWQKQH015tIpAuUZAT9xrd9p2/GY5dOcS6Os\\n9VHjrA2qiXbImi2vddhq++Pem9oRHmidZNtLwSIkoUaZyt2cjU86bFOolVqQa41v\\nXrSNwNPYeJ9dviixnFkw+o6PZDMlUdS+F5AJKTzmOmdXDdLh6nwjn9aqnpnVkbY4\\nsDEGqBJX1BUm/vDua80U+X+CMkA6LTSXT8PPX2cXKqw8oU7S/SASLSowjNY/f7M=\\n=0qLE\\n-----END PGP SIGNATURE-----\\n',\n",
       "  'payload': 'tree 4b825dc642cb6eb9a060e54bf8d69288fbee4904\\nparent 652556da28f5018e64db736681027ba3d0b94171\\nauthor mariashapo <72753307+mariashapo@users.noreply.github.com> 1682001593 +0100\\ncommitter GitHub <noreply@github.com> 1682001593 +0100\\n\\nDelete README.md'}}"
      ]
     },
     "execution_count": 62,
     "metadata": {},
     "output_type": "execute_result"
    }
   ],
   "source": [
    "requests.get(\"https://api.github.com/repos/mariashapo/capstone_project/commits\").json()[10]['commit']"
   ]
  },
  {
   "cell_type": "code",
   "execution_count": 74,
   "metadata": {},
   "outputs": [
    {
     "data": {
      "text/plain": [
       "4"
      ]
     },
     "execution_count": 74,
     "metadata": {},
     "output_type": "execute_result"
    }
   ],
   "source": [
    "len(repos)"
   ]
  },
  {
   "cell_type": "code",
   "execution_count": 84,
   "metadata": {},
   "outputs": [
    {
     "data": {
      "text/plain": [
       "'https://api.github.com/repos/mariashapo/capstone_project/languages'"
      ]
     },
     "execution_count": 84,
     "metadata": {},
     "output_type": "execute_result"
    }
   ],
   "source": [
    "repos[0]['languages_url']"
   ]
  },
  {
   "cell_type": "code",
   "execution_count": 88,
   "metadata": {},
   "outputs": [
    {
     "data": {
      "text/plain": [
       "{'Jupyter Notebook': 61270818,\n",
       " 'HTML': 6660789,\n",
       " 'Python': 26720,\n",
       " 'Makefile': 4684}"
      ]
     },
     "execution_count": 88,
     "metadata": {},
     "output_type": "execute_result"
    }
   ],
   "source": [
    "requests.get(\"https://api.github.com/repos/mariashapo/capstone_project/languages\").json()"
   ]
  },
  {
   "cell_type": "code",
   "execution_count": null,
   "metadata": {},
   "outputs": [],
   "source": []
  },
  {
   "cell_type": "code",
   "execution_count": 89,
   "metadata": {},
   "outputs": [
    {
     "data": {
      "text/plain": [
       "'https://api.github.com/repos/mariashapo/capstone_project/contributors'"
      ]
     },
     "execution_count": 89,
     "metadata": {},
     "output_type": "execute_result"
    }
   ],
   "source": [
    "repos[0]['contributors_url']"
   ]
  },
  {
   "cell_type": "code",
   "execution_count": 91,
   "metadata": {},
   "outputs": [
    {
     "data": {
      "text/plain": [
       "[{'login': 'mariashapo',\n",
       "  'id': 72753307,\n",
       "  'node_id': 'MDQ6VXNlcjcyNzUzMzA3',\n",
       "  'avatar_url': 'https://avatars.githubusercontent.com/u/72753307?v=4',\n",
       "  'gravatar_id': '',\n",
       "  'url': 'https://api.github.com/users/mariashapo',\n",
       "  'html_url': 'https://github.com/mariashapo',\n",
       "  'followers_url': 'https://api.github.com/users/mariashapo/followers',\n",
       "  'following_url': 'https://api.github.com/users/mariashapo/following{/other_user}',\n",
       "  'gists_url': 'https://api.github.com/users/mariashapo/gists{/gist_id}',\n",
       "  'starred_url': 'https://api.github.com/users/mariashapo/starred{/owner}{/repo}',\n",
       "  'subscriptions_url': 'https://api.github.com/users/mariashapo/subscriptions',\n",
       "  'organizations_url': 'https://api.github.com/users/mariashapo/orgs',\n",
       "  'repos_url': 'https://api.github.com/users/mariashapo/repos',\n",
       "  'events_url': 'https://api.github.com/users/mariashapo/events{/privacy}',\n",
       "  'received_events_url': 'https://api.github.com/users/mariashapo/received_events',\n",
       "  'type': 'User',\n",
       "  'site_admin': False,\n",
       "  'contributions': 15}]"
      ]
     },
     "execution_count": 91,
     "metadata": {},
     "output_type": "execute_result"
    }
   ],
   "source": [
    "requests.get(\"https://api.github.com/repos/mariashapo/capstone_project/contributors\").json()"
   ]
  },
  {
   "cell_type": "code",
   "execution_count": null,
   "metadata": {},
   "outputs": [],
   "source": [
    "import requests \n",
    "\n",
    "def process_github_username():\n",
    "    username = request.form.get(\"username\")\n",
    "    repo_objects=format_response(username)\n",
    "    return render_template(\"github_repo_info.html\", name = username, my_repo_objects=repo_objects)\n",
    "\n",
    "\n",
    "class Repository(BaseModel):\n",
    "    repository_name: str\n",
    "    time: datetime\n",
    "\n",
    "def format_response(username):\n",
    "    url = f\"https://api.github.com/users/{username}/repos\"\n",
    "    response = requests.get(url)\n",
    "                            \n",
    "    if response.status_code == 200:\n",
    "        repos = response.json() # data returned is a list of ‘repository’ entities\n",
    "        repo_objects=[]\n",
    "        for repo in repos:\n",
    "            repo_name=repo[\"full_name\"].split('/')[-1]\n",
    "            created_time=datetime_return(repo)\n",
    "            repo_objects.append(Repository(repository_name=repo_name, time=created_time))\n",
    "\n",
    "    return repo_objects\n",
    "\n",
    "\n",
    "def datetime_return(repo):\n",
    "    timestamp_str = repo[\"created_at\"]\n",
    "    timestamp_str = timestamp_str.replace('Z', '+00:00')  # Replace 'Z' with '+00:00' to specify UTC offset\n",
    "\n",
    "    return datetime.fromisoformat(timestamp_str)"
   ]
  }
 ],
 "metadata": {
  "kernelspec": {
   "display_name": "test_env",
   "language": "python",
   "name": "python3"
  },
  "language_info": {
   "codemirror_mode": {
    "name": "ipython",
    "version": 3
   },
   "file_extension": ".py",
   "mimetype": "text/x-python",
   "name": "python",
   "nbconvert_exporter": "python",
   "pygments_lexer": "ipython3",
   "version": "3.12.0"
  }
 },
 "nbformat": 4,
 "nbformat_minor": 2
}
